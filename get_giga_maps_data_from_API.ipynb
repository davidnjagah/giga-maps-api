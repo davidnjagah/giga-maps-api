{
 "cells": [
  {
   "cell_type": "code",
   "execution_count": 2,
   "id": "a2be1022-ae88-4ac2-bd2d-947e938ef230",
   "metadata": {},
   "outputs": [
    {
     "ename": "SyntaxError",
     "evalue": "invalid syntax (2446371290.py, line 1)",
     "output_type": "error",
     "traceback": [
      "\u001b[0;36m  Cell \u001b[0;32mIn[2], line 1\u001b[0;36m\u001b[0m\n\u001b[0;31m    <a href=\"https://colab.research.google.com/github/FNS-Division/GIGA-applied-geospatial-tools/blob/main/get_giga_maps_data_from_API.ipynb\" target=\"_parent\"><img src=\"https://colab.research.google.com/assets/colab-badge.svg\" alt=\"Open In Colab\"/></a>\u001b[0m\n\u001b[0m    ^\u001b[0m\n\u001b[0;31mSyntaxError\u001b[0m\u001b[0;31m:\u001b[0m invalid syntax\n"
     ]
    }
   ],
   "source": [
    "<a href=\"https://colab.research.google.com/github/FNS-Division/GIGA-applied-geospatial-tools/blob/main/get_giga_maps_data_from_API.ipynb\" target=\"_parent\"><img src=\"https://colab.research.google.com/assets/colab-badge.svg\" alt=\"Open In Colab\"/></a>"
   ]
  },
  {
   "cell_type": "markdown",
   "id": "8b683132-1602-482a-9bf6-34efff1bd5d7",
   "metadata": {},
   "source": [
    "![Logo](https://www.itu.int/web/pp-18/assets/logo/itu_logo.png)"
   ]
  },
  {
   "cell_type": "markdown",
   "id": "94674d85-630b-426f-836a-bba6119eebe4",
   "metadata": {},
   "source": [
    "# Get data from Giga Maps"
   ]
  },
  {
   "cell_type": "code",
   "execution_count": 3,
   "id": "aaa275b9-27e9-4ec3-9845-631d3c256e45",
   "metadata": {},
   "outputs": [
    {
     "ename": "ModuleNotFoundError",
     "evalue": "No module named 'requests'",
     "output_type": "error",
     "traceback": [
      "\u001b[0;31m---------------------------------------------------------------------------\u001b[0m",
      "\u001b[0;31mModuleNotFoundError\u001b[0m                       Traceback (most recent call last)",
      "Cell \u001b[0;32mIn[3], line 1\u001b[0m\n\u001b[0;32m----> 1\u001b[0m \u001b[38;5;28;01mimport\u001b[39;00m\u001b[38;5;250m \u001b[39m\u001b[38;5;21;01mrequests\u001b[39;00m\n\u001b[1;32m      2\u001b[0m \u001b[38;5;28;01mimport\u001b[39;00m\u001b[38;5;250m \u001b[39m\u001b[38;5;21;01mpycountry\u001b[39;00m\n\u001b[1;32m      3\u001b[0m \u001b[38;5;28;01mimport\u001b[39;00m\u001b[38;5;250m \u001b[39m\u001b[38;5;21;01mipywidgets\u001b[39;00m\u001b[38;5;250m \u001b[39m\u001b[38;5;28;01mas\u001b[39;00m\u001b[38;5;250m \u001b[39m\u001b[38;5;21;01mwidgets\u001b[39;00m\n",
      "\u001b[0;31mModuleNotFoundError\u001b[0m: No module named 'requests'"
     ]
    }
   ],
   "source": [
    "import requests\n",
    "import pycountry\n",
    "import ipywidgets as widgets\n",
    "import pandas as pd\n",
    "import geopandas as gpd\n",
    "from IPython.display import display, clear_output"
   ]
  },
  {
   "cell_type": "code",
   "execution_count": null,
   "id": "9fe94609-ec71-45b7-9b3a-332c037fe9aa",
   "metadata": {},
   "outputs": [],
   "source": [
    "# @title Select country\n",
    "# Create dropdown: country name shown, ISO3 code stored\n",
    "country_dropdown = widgets.Dropdown(\n",
    "    options=sorted([(c.name, c.alpha_3) for c in pycountry.countries]),\n",
    "    description='Country:',\n",
    "    value='BRA'\n",
    ")\n",
    "\n",
    "display(country_dropdown)"
   ]
  },
  {
   "cell_type": "code",
   "execution_count": null,
   "id": "1fc66356-0076-46a2-8eb8-01448d64978b",
   "metadata": {},
   "outputs": [],
   "source": [
    "#Choose country to get school location data using ISO code\n",
    "country_code = \"\""
   ]
  },
  {
   "cell_type": "code",
   "execution_count": null,
   "id": "3dc4095d-afa7-48b7-ba2b-68e3f0aede81",
   "metadata": {},
   "outputs": [],
   "source": [
    "# Set the API key (from Giga maps)\n",
    "api_key = \"add_here\""
   ]
  },
  {
   "cell_type": "code",
   "execution_count": null,
   "id": "ef250a87-14fa-46cd-b66d-237f4674b8d4",
   "metadata": {},
   "outputs": [],
   "source": [
    "# URL for API endpoint (using selected country)\n",
    "BASE_URL = f\"https://uni-ooi-giga-maps-service.azurewebsites.net/api/v1/schools_location/country/{country_code}\"\n",
    "\n",
    "#Headers\n",
    "headers = {\n",
    "    \"accept\": \"application/json\",\n",
    "    \"Authorization\": f\"Bearer {api_key}\"\n",
    "}"
   ]
  },
  {
   "cell_type": "code",
   "execution_count": null,
   "id": "8ef077d0-f38d-4ee2-9d25-caeca593f527",
   "metadata": {},
   "outputs": [],
   "source": [
    "# Parameters (see Giga Maps API docs)\n",
    "# Requests need to be paginated- split up into multiple requests to prevent overloading the API\n",
    "page = 1\n",
    "\n",
    "# Current max page size is 1000, meaning each request sends \n",
    "size = 1000"
   ]
  },
  {
   "cell_type": "code",
   "execution_count": null,
   "id": "28566246-ddd9-41c4-81fe-e4706fb9c2c5",
   "metadata": {},
   "outputs": [],
   "source": [
    "# Creates a list to store all the responses from API requests\n",
    "all_schools = []\n",
    "\n",
    "while True:\n",
    "    params = {\n",
    "        \"page\": page,\n",
    "        \"size\": size\n",
    "    }\n",
    "    \n",
    "   # Request schools from the API endpoint \n",
    "    response = requests.get(BASE_URL, headers=headers, params=params)\n",
    "\n",
    "    # Ensure that the response from the API is correct. With an incorrect response, no more requests will be sent\n",
    "    if response.status_code != 200:\n",
    "        print(f\"Request failed at page {page}: {response.status_code}\")\n",
    "        break\n",
    "\n",
    "    # Extract the schools returned from the API\n",
    "    data = response.json()['data']\n",
    "\n",
    "    # Check that the data \n",
    "    if not data or len(data) == 0:\n",
    "        print(f\"No more data returned at page {page}.\")\n",
    "        break\n",
    "\n",
    "    #Continuously add newly fetched schools to the all_schools list\n",
    "    all_schools.extend(data)\n",
    "    clear_output(wait=True)\n",
    "    display(f\"Fetched page {page}, items received: {len(data)}\")\n",
    "    #print(f\"Fetched page {page}, items received: {len(data)}\")\n",
    "    page += 1\n",
    "\n",
    "total_end = time.time()\n",
    "total_duration = total_end - timer_start\n",
    "print(f\"Total items fetched: {len(all_schools)}\")"
   ]
  },
  {
   "cell_type": "code",
   "execution_count": null,
   "id": "3276ef13-c092-446d-80fb-ef9e7f92c5e2",
   "metadata": {},
   "outputs": [],
   "source": [
    "school_data = pd.DataFrame(all_schools)"
   ]
  },
  {
   "cell_type": "code",
   "execution_count": null,
   "id": "8a4323b1-6ae3-4ba3-809d-3be3bacb66c1",
   "metadata": {},
   "outputs": [],
   "source": [
    "school_data = gpd.GeoDataFrame(school_data, geometry=gpd.points_from_xy(school_data.longitude, school_data.latitude), crs=\"4326\")"
   ]
  },
  {
   "cell_type": "code",
   "execution_count": null,
   "id": "39351071-cae0-4e20-b473-11b39a092cf6",
   "metadata": {},
   "outputs": [],
   "source": [
    "# Save the filtered data to a CSV file\n",
    "school_data.to_file(\"school_data.geojson\", driver=\"GeoJSON\")"
   ]
  }
 ],
 "metadata": {
  "kernelspec": {
   "display_name": "Python 3",
   "language": "python",
   "name": "python3"
  },
  "language_info": {
   "codemirror_mode": {
    "name": "ipython",
    "version": 3
   },
   "file_extension": ".py",
   "mimetype": "text/x-python",
   "name": "python",
   "nbconvert_exporter": "python",
   "pygments_lexer": "ipython3",
   "version": "3.10.17"
  }
 },
 "nbformat": 4,
 "nbformat_minor": 5
}
