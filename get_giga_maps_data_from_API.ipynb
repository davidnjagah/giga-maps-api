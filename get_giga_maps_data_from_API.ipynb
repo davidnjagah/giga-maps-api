{
 "cells": [
  {
   "cell_type": "markdown",
   "id": "94674d85-630b-426f-836a-bba6119eebe4",
   "metadata": {},
   "source": [
    "# Request School Location Data from GigaMaps APIs\n",
    "\n",
    "![Giga](https://www.geneve-int.ch/sites/default/files/styles/scale_450x450/public/2024-07/Logo-GIGA.jpg)"
   ]
  },
  {
   "cell_type": "code",
   "execution_count": null,
   "id": "aaa275b9-27e9-4ec3-9845-631d3c256e45",
   "metadata": {},
   "outputs": [],
   "source": [
    "# Install libraries as needed\n",
    "\n",
    "import requests\n",
    "import pandas as pd\n",
    "import geopandas as gpd\n",
    "from IPython.display import display, clear_output"
   ]
  },
  {
   "cell_type": "code",
   "execution_count": null,
   "id": "1fc66356-0076-46a2-8eb8-01448d64978b",
   "metadata": {},
   "outputs": [],
   "source": [
    "# Assign the the ISO code for the country you would like school location data for as a string to country_code variable.\n",
    "# The list of countries available on GigaMaps (with ISO codes) can be downloaded using the GigaMaps Country API. https://maps.giga.global/docs/explore-api\n",
    "\n",
    "country_code = \"BRA\""
   ]
  },
  {
   "cell_type": "code",
   "execution_count": null,
   "id": "3dc4095d-afa7-48b7-ba2b-68e3f0aede81",
   "metadata": {},
   "outputs": [],
   "source": [
    "# Assign your unique API key as a string to variable api_key (if you don't have an API key, you can request one from Giga Maps)\n",
    "api_key = \"9grGJQwOziA1fJzBd7RVHiZGERFJbvDBnteo4S4yQYrzsi23j1FjYPVlj2T1#HZU#_ymdRIUAjNys0Z#fF86pTZjW07vIVBbJ#O2p6SC_XPRn#1VJy6YchOTyHpYkLCR8mow*4W*J6kXR_Cz12WO_lpzItRhNUpBUC7zPrfxUiBfU8J05f2DBpRMQ0Gn77IowoKlGqymfRBW9ZsEg_hW3OFsqcmi7aK#a86wRLwt1kuUTZjljf8*ctp6Decnx1n0zvW*j*DP\""
   ]
  },
  {
   "cell_type": "code",
   "execution_count": null,
   "id": "ef250a87-14fa-46cd-b66d-237f4674b8d4",
   "metadata": {},
   "outputs": [],
   "source": [
    "# URL for School Location API endpoint (using selected country)\n",
    "BASE_URL = f\"https://uni-ooi-giga-maps-service.azurewebsites.net/api/v1/schools_location/country/{country_code}\"\n",
    "\n",
    "#Headers\n",
    "headers = {\n",
    "    \"accept\": \"application/json\",\n",
    "    \"Authorization\": f\"Bearer {api_key}\"\n",
    "}"
   ]
  },
  {
   "cell_type": "code",
   "execution_count": null,
   "id": "8ef077d0-f38d-4ee2-9d25-caeca593f527",
   "metadata": {},
   "outputs": [],
   "source": [
    "# Parameters (see Giga Maps API docs)\n",
    "# Requests need to be paginated- split up into multiple requests to prevent overloading the API\n",
    "page = 1\n",
    "\n",
    "# Current max page size is 1000, meaning each request sends \n",
    "size = 1000"
   ]
  },
  {
   "cell_type": "code",
   "execution_count": null,
   "id": "28566246-ddd9-41c4-81fe-e4706fb9c2c5",
   "metadata": {},
   "outputs": [],
   "source": [
    "# Creates a list to store all the responses from API requests\n",
    "all_schools = []\n",
    "\n",
    "# Loop through pages until all school location data has been collected\n",
    "while True:\n",
    "    params = {\n",
    "        \"page\": page,\n",
    "        \"size\": size\n",
    "    }\n",
    "    \n",
    "   # Request schools from the API endpoint \n",
    "    response = requests.get(BASE_URL, headers=headers, params=params)\n",
    "\n",
    "    # Ensure that the response from the API is correct. With an incorrect response, no more requests will be sent\n",
    "    if response.status_code != 200:\n",
    "        print(f\"Request failed at page {page}: {response.status_code}\")\n",
    "        break\n",
    "\n",
    "    # Extract the schools returned from the API\n",
    "    data = response.json()['data']\n",
    "\n",
    "    # Check that the most recent request receives data in the response\n",
    "    if not data or len(data) == 0:\n",
    "        print(f\"No more data returned at page {page}.\")\n",
    "        break\n",
    "\n",
    "    #Continuously add newly fetched schools to the all_schools list\n",
    "    all_schools.extend(data)\n",
    "    clear_output(wait=True)\n",
    "    display(f\"Fetched page {page}, items received: {len(data)}\")\n",
    "    page += 1"
   ]
  },
  {
   "cell_type": "code",
   "execution_count": null,
   "id": "3276ef13-c092-446d-80fb-ef9e7f92c5e2",
   "metadata": {},
   "outputs": [],
   "source": [
    "#Convert to pandas DataFrame\n",
    "school_data = pd.DataFrame(all_schools)"
   ]
  },
  {
   "cell_type": "code",
   "execution_count": null,
   "id": "2d76f7aa-757f-4470-9745-0ef80bea09b3",
   "metadata": {},
   "outputs": [],
   "source": [
    "school_data.describe()"
   ]
  },
  {
   "cell_type": "code",
   "execution_count": null,
   "id": "8a4323b1-6ae3-4ba3-809d-3be3bacb66c1",
   "metadata": {},
   "outputs": [],
   "source": [
    "# Create geopandas DataFrame\n",
    "school_data = gpd.GeoDataFrame(school_data, geometry=gpd.points_from_xy(school_data.longitude, school_data.latitude), crs=\"4326\")"
   ]
  },
  {
   "cell_type": "code",
   "execution_count": null,
   "id": "39351071-cae0-4e20-b473-11b39a092cf6",
   "metadata": {},
   "outputs": [],
   "source": [
    "# Save the filtered data to a GeoJSON file\n",
    "school_data.to_file(\"school_data.geojson\", driver=\"GeoJSON\")"
   ]
  }
 ],
 "metadata": {
  "kernelspec": {
   "display_name": "Python 3 (ipykernel)",
   "language": "python",
   "name": "python3"
  },
  "language_info": {
   "codemirror_mode": {
    "name": "ipython",
    "version": 3
   },
   "file_extension": ".py",
   "mimetype": "text/x-python",
   "name": "python",
   "nbconvert_exporter": "python",
   "pygments_lexer": "ipython3",
   "version": "3.12.7"
  }
 },
 "nbformat": 4,
 "nbformat_minor": 5
}
